{
  "cells": [
    {
      "cell_type": "markdown",
      "id": "2HLG-Azvgz46",
      "metadata": {
        "id": "2HLG-Azvgz46"
      },
      "source": [
        "# CS5500 : Reinforcement Learning\n",
        "\n",
        "# Assignment № 4\n",
        "\n"
      ]
    },
    {
      "cell_type": "markdown",
      "id": "exuIGTD-ZpU9",
      "metadata": {
        "id": "exuIGTD-ZpU9"
      },
      "source": [
        "# Gantasala Naga Aneesh Ajaroy\n",
        "\n",
        "# CS19BTECH11010"
      ]
    },
    {
      "cell_type": "markdown",
      "id": "q3y5uDcyg-pN",
      "metadata": {
        "id": "q3y5uDcyg-pN"
      },
      "source": [
        "## Problem 3 : Policy Gradient"
      ]
    },
    {
      "cell_type": "markdown",
      "id": "0QCZRm2ciHQG",
      "metadata": {
        "id": "0QCZRm2ciHQG"
      },
      "source": [
        "## Cartpole-v0 Environment"
      ]
    },
    {
      "cell_type": "markdown",
      "id": "BY9kVxvliNOi",
      "metadata": {
        "id": "BY9kVxvliNOi"
      },
      "source": [
        "\n",
        "\n"
      ]
    },
    {
      "cell_type": "markdown",
      "id": "ESXKDHCYiT-B",
      "metadata": {
        "id": "ESXKDHCYiT-B"
      },
      "source": [
        "### Import Required  Libraries"
      ]
    },
    {
      "cell_type": "code",
      "execution_count": 1,
      "id": "016b8f35",
      "metadata": {
        "id": "016b8f35"
      },
      "outputs": [],
      "source": [
        "import gym\n",
        "import random\n",
        "import matplotlib.pyplot as plt\n",
        "from collections import Counter\n",
        "import numpy as np\n",
        "from matplotlib.colors import ListedColormap\n",
        "import pandas as pd\n",
        "import torch\n",
        "import torch.nn as nn\n",
        "import torch.optim as optim\n",
        "from torch.distributions import Categorical"
      ]
    },
    {
      "cell_type": "markdown",
      "id": "GsZ_sDYsjA0t",
      "metadata": {
        "id": "GsZ_sDYsjA0t"
      },
      "source": [
        "# 3a)"
      ]
    },
    {
      "cell_type": "markdown",
      "id": "XRnOFo81jEhA",
      "metadata": {
        "id": "XRnOFo81jEhA"
      },
      "source": [
        "## Printing State and Action Spaces"
      ]
    },
    {
      "cell_type": "code",
      "execution_count": 2,
      "id": "03639804",
      "metadata": {
        "id": "03639804"
      },
      "outputs": [],
      "source": [
        "def load_env(name):\n",
        "    env = gym.make(name)\n",
        "    print(\"The environment {} is created\".format(name))\n",
        "    \n",
        "    Observation_Space = env.observation_space\n",
        "    Action_Space = env.action_space\n",
        "    \n",
        "    print(\"The Observation Space : {}\".format(Observation_Space))\n",
        "    states = Observation_Space.shape\n",
        "    print(\"Number of Observations or Dimensions in State : {}\".format(states))\n",
        "    print(\"The First dimension represents Cart Position\")\n",
        "    print(\"The Second dimension represents Cart Velocity\")\n",
        "    print(\"The Third dimension represents Pole Angle\")\n",
        "    print(\"The Fourth dimension represents Pole Angular Velocity\")\n",
        "    print(\"Box represents a continuous ndarray\")\n",
        "    Upper = Observation_Space.high\n",
        "    Lower = Observation_Space.low\n",
        "    print(\"Cart Position is bounded by [{0:8.5f},{1:8.5f}]\".format(Lower[0],Upper[0]))\n",
        "    print(\"Cart Velocity is bounded by [-inf,inf]\")\n",
        "    print(\"Pole Angle is bounded by [{0:8.5f},{1:8.5f}]\".format(Lower[2],Upper[2]))\n",
        "    print(\"Pole Angular Velocity is bounded by [-inf,inf]\")\n",
        "    \n",
        "    print(\"The Action Space : {}\".format(Action_Space))\n",
        "    actions = Action_Space.n\n",
        "    print(\"Number of valid Actions : {}\".format(actions))\n",
        "    print(\"The discrete Deterministic actions are 0,1 \")\n",
        "    print(\"0 -> Pust Cart to left\")\n",
        "    print(\"1 -> Pust Cart to Right\")\n",
        "    return env\n",
        "    "
      ]
    },
    {
      "cell_type": "code",
      "execution_count": 3,
      "id": "907661f9",
      "metadata": {
        "colab": {
          "base_uri": "https://localhost:8080/"
        },
        "id": "907661f9",
        "outputId": "e99b7f6f-1125-4ad5-f8f0-05d7daa58131"
      },
      "outputs": [
        {
          "name": "stdout",
          "output_type": "stream",
          "text": [
            "The environment CartPole-v0 is created\n",
            "The Observation Space : Box([-4.8000002e+00 -3.4028235e+38 -4.1887903e-01 -3.4028235e+38], [4.8000002e+00 3.4028235e+38 4.1887903e-01 3.4028235e+38], (4,), float32)\n",
            "Number of Observations or Dimensions in State : (4,)\n",
            "The First dimension represents Cart Position\n",
            "The Second dimension represents Cart Velocity\n",
            "The Third dimension represents Pole Angle\n",
            "The Fourth dimension represents Pole Angular Velocity\n",
            "Box represents a continuous ndarray\n",
            "Cart Position is bounded by [-4.80000, 4.80000]\n",
            "Cart Velocity is bounded by [-inf,inf]\n",
            "Pole Angle is bounded by [-0.41888, 0.41888]\n",
            "Pole Angular Velocity is bounded by [-inf,inf]\n",
            "The Action Space : Discrete(2)\n",
            "Number of valid Actions : 2\n",
            "The discrete Deterministic actions are 0,1 \n",
            "0 -> Pust Cart to left\n",
            "1 -> Pust Cart to Right\n"
          ]
        },
        {
          "name": "stderr",
          "output_type": "stream",
          "text": [
            "/usr/local/lib/python3.7/dist-packages/gym/envs/registration.py:594: UserWarning: \u001b[33mWARN: The environment CartPole-v0 is out of date. You should consider upgrading to version `v1`.\u001b[0m\n",
            "  f\"The environment {id} is out of date. You should consider \"\n",
            "/usr/local/lib/python3.7/dist-packages/gym/core.py:318: DeprecationWarning: \u001b[33mWARN: Initializing wrapper in old step API which returns one bool instead of two. It is recommended to set `new_step_api=True` to use new step API. This will be the default behaviour in future.\u001b[0m\n",
            "  \"Initializing wrapper in old step API which returns one bool instead of two. It is recommended to set `new_step_api=True` to use new step API. This will be the default behaviour in future.\"\n",
            "/usr/local/lib/python3.7/dist-packages/gym/wrappers/step_api_compatibility.py:40: DeprecationWarning: \u001b[33mWARN: Initializing environment in old step API which returns one bool instead of two. It is recommended to set `new_step_api=True` to use new step API. This will be the default behaviour in future.\u001b[0m\n",
            "  \"Initializing environment in old step API which returns one bool instead of two. It is recommended to set `new_step_api=True` to use new step API. This will be the default behaviour in future.\"\n"
          ]
        }
      ],
      "source": [
        "Environment = load_env(\"CartPole-v0\")"
      ]
    },
    {
      "cell_type": "markdown",
      "id": "iNDeaeMQjakZ",
      "metadata": {
        "id": "iNDeaeMQjakZ"
      },
      "source": [
        "## Plotting Reward function with Random Agent"
      ]
    },
    {
      "cell_type": "code",
      "execution_count": 4,
      "id": "b491a2ab",
      "metadata": {
        "id": "b491a2ab"
      },
      "outputs": [],
      "source": [
        "def reward_plot(env):\n",
        "    Reward = []\n",
        "    position = []\n",
        "    velocity = []\n",
        "    Action = []\n",
        "    Angle = []\n",
        "    Ang_Velocity = []\n",
        "    for ep in range(1000):\n",
        "        env.reset()\n",
        "        while True:\n",
        "            num_actions = env.action_space.n\n",
        "            action_space = list(range(num_actions))\n",
        "            A = random.sample(action_space,1)\n",
        "            observation, reward, terminated,_ = env.step(A[0])\n",
        "            Action.append(A[0])\n",
        "            Reward.append(reward)\n",
        "            position.append(observation[0])\n",
        "            velocity.append(observation[1])\n",
        "            Angle.append(observation[2])\n",
        "            Ang_Velocity.append(observation[3])\n",
        "            if terminated:\n",
        "                break\n",
        "                \n",
        "    plt.subplots(figsize=(55,10))\n",
        "    \n",
        "    plt.subplot(1, 5, 1)\n",
        "    plt.plot(position, Reward, 'r')\n",
        "    plt.xlabel('position')\n",
        "    plt.ylabel('reward')\n",
        "\n",
        "    plt.subplot(1, 5, 2)\n",
        "    plt.plot(velocity, Reward, 'g')\n",
        "    plt.xlabel('velocity')\n",
        "    plt.ylabel('reward')\n",
        "    \n",
        "    plt.subplot(1, 5, 3)\n",
        "    plt.plot(Angle, Reward, c = 'b')\n",
        "    plt.xlabel('Angle')\n",
        "    plt.ylabel('reward')\n",
        "    \n",
        "    plt.subplot(1, 5, 4)\n",
        "    plt.plot(Ang_Velocity, Reward, c = 'y')\n",
        "    plt.xlabel('Ang_Velocity')\n",
        "    plt.ylabel('reward')\n",
        "    \n",
        "    plt.subplot(1, 5, 5)\n",
        "    plt.scatter(Action, Reward, c = 'c')\n",
        "    plt.xlabel('action')\n",
        "    plt.ylabel('reward')\n",
        "    \n",
        "    \n",
        "    \n",
        "    \n",
        "    \n",
        "    plt.show()\n",
        "        "
      ]
    },
    {
      "cell_type": "code",
      "execution_count": 5,
      "id": "2a3c9e6d",
      "metadata": {
        "colab": {
          "base_uri": "https://localhost:8080/",
          "height": 235
        },
        "id": "2a3c9e6d",
        "outputId": "6dd28ab2-366f-4747-b2af-65b10395a844"
      },
      "outputs": [
        {
          "data": {
            "image/png": "[encoded data removed]",
            "text/plain": [
              "<Figure size 3960x720 with 5 Axes>"
            ]
          },
          "metadata": {
            "needs_background": "light"
          },
          "output_type": "display_data"
        }
      ],
      "source": [
        "reward_plot(Environment)"
      ]
    },
    {
      "cell_type": "markdown",
      "id": "aegLYC0ijgUh",
      "metadata": {
        "id": "aegLYC0ijgUh"
      },
      "source": [
        "# 3b)"
      ]
    },
    {
      "cell_type": "markdown",
      "id": "Ehm6ZNXDjlWu",
      "metadata": {
        "id": "Ehm6ZNXDjlWu"
      },
      "source": [
        "## Policy Gradient Algorithm"
      ]
    },
    {
      "cell_type": "markdown",
      "id": "po74Y-c_jqsd",
      "metadata": {
        "id": "po74Y-c_jqsd"
      },
      "source": [
        "### Deep Neural Model"
      ]
    },
    {
      "cell_type": "code",
      "execution_count": null,
      "id": "dd4fd8e9",
      "metadata": {
        "id": "dd4fd8e9"
      },
      "outputs": [],
      "source": [
        "class Model(nn.Module):\n",
        "    def __init__(self, input_layer,hidden_dimension,num_actions):\n",
        "        super(Model, self).__init__()\n",
        "        self.Net = nn.Sequential(nn.Linear(input_layer, hidden_dimension, bias=False),\n",
        "                                   nn.ReLU(),\n",
        "                                   nn.Linear(hidden_dimension,num_actions,bias=False),\n",
        "                                   nn.Softmax(dim=-1))\n",
        "        \n",
        "    def forward(self,x):\n",
        "        return self.Net(x)"
      ]
    },
    {
      "cell_type": "markdown",
      "id": "rEalxs5_jy2g",
      "metadata": {
        "id": "rEalxs5_jy2g"
      },
      "source": [
        "### Agent Class for Creating, Training and  Optimizing our RL Agent"
      ]
    },
    {
      "cell_type": "code",
      "execution_count": null,
      "id": "a59bb0dd",
      "metadata": {
        "id": "a59bb0dd"
      },
      "outputs": [],
      "source": [
        "class Agent:\n",
        "    \n",
        "    def __init__(self, lr, num_actions, batch_size, input_layer, gamma, iterations,rw_t_g = True, Adv_N = True):\n",
        "        \n",
        "        self.action_space = [i for i in range(num_actions)]\n",
        "        self.batch_size = batch_size\n",
        "        self.step_counter = 0\n",
        "        self.lr = lr\n",
        "        self.device = \"cuda:0\"\n",
        "        self.Train_Net = Model(input_layer,256,num_actions).to(self.device)\n",
        "        self.optimizer = optim.Adam(self.Train_Net.parameters(),lr=lr)\n",
        "        self.reward_to_go = rw_t_g\n",
        "        self.Advantage_Norm = Adv_N\n",
        "        self.gamma = gamma\n",
        "        self.iterations = iterations\n",
        "\n",
        "\n",
        "    def policy(self,observation):\n",
        "        \n",
        "        probs = self.Train_Net(observation.to(self.device))\n",
        "        m = Categorical(probs)\n",
        "        action = m.sample()\n",
        "        return action, m.log_prob(action)\n",
        "    \n",
        "    def get_torch_state(self,observation):\n",
        "        \n",
        "        state = np.array(observation)\n",
        "        state = torch.from_numpy(state)\n",
        "        state = state.type(torch.FloatTensor)\n",
        "        state = state.unsqueeze(0)\n",
        "        return state\n",
        "\n",
        "\n",
        "    def optimize(self,Batch_Policy_History,Batch_Episode_Reward):\n",
        "        \n",
        "        if self.Advantage_Norm:\n",
        "            baseline = 0.\n",
        "            for eps in Batch_Episode_Reward:\n",
        "                R = 0\n",
        "                rewards = []\n",
        "                for r in eps[::-1]:\n",
        "                    R = r + self.gamma * R\n",
        "                baseline += R\n",
        "            baseline /= self.batch_size\n",
        "\n",
        "        \n",
        "        loss = 0.\n",
        "        for i in range(len(Batch_Episode_Reward)):\n",
        "            p = Batch_Policy_History[i]\n",
        "            e = Batch_Episode_Reward[i]\n",
        "            R = 0\n",
        "            rewards = []\n",
        "            for r in e[::-1]:\n",
        "                R = r + self.gamma * R\n",
        "                rewards.insert(0,R)\n",
        "            \n",
        "            p = torch.cat(p).type(torch.FloatTensor)\n",
        "            rewards = torch.FloatTensor(rewards)\n",
        "            \n",
        "            if self.reward_to_go:\n",
        "                if self.Advantage_Norm:\n",
        "                    rewards =  rewards - baseline\n",
        "                    rewards = (rewards - rewards.mean()) / (rewards.std() + np.finfo(np.float32).eps)\n",
        "\n",
        "                loss += torch.sum(torch.mul(p,rewards).mul(-1), -1)\n",
        "            else:\n",
        "                loss += torch.sum(torch.mul(p,rewards[0]).mul(-1), -1)\n",
        "    \n",
        "        self.optimizer.zero_grad()\n",
        "        loss.backward()\n",
        "        self.optimizer.step()\n",
        "\n",
        "\n",
        "    def train(self,env):\n",
        "    \n",
        "        rewards = []\n",
        "        \n",
        "        for i in range(self.iterations):   \n",
        "            Batch_Episode_Reward = []\n",
        "            Batch_Policy_History = []\n",
        "            episode = 0\n",
        "            while episode < self.batch_size:\n",
        "                state = env.reset()\n",
        "                state = self.get_torch_state(state)\n",
        "                episode_rewards = []\n",
        "                policy_history = []\n",
        "                terminated = False\n",
        "                while (not terminated):\n",
        "                    action, policy_log = self.policy(state)\n",
        "                    action = action.item()\n",
        "                    observation,reward,terminated,_ = env.step(action)\n",
        "                    state  =  self.get_torch_state(observation)\n",
        "                    episode_rewards.append(reward)\n",
        "                    policy_history.append(policy_log)\n",
        "            \n",
        "                Batch_Episode_Reward.append(episode_rewards)\n",
        "                Batch_Policy_History.append(policy_history)\n",
        "                episode+=1\n",
        "            \n",
        "            rewards.append(np.mean([np.sum(er) for er in Batch_Episode_Reward]))\n",
        "            self.optimize(Batch_Policy_History,Batch_Episode_Reward)\n",
        "        \n",
        "            print('Total Reward for Iteration {} : {}'.format(i,rewards[-1]))   \n",
        "        env.close()\n",
        "    \n",
        "        plt.plot(rewards,label='Mean Reward')\n",
        "        plt.xlabel('Episodes')\n",
        "        plt.ylabel('Reward')\n",
        "        plt.legend()\n",
        "        plt.grid()\n",
        "        plt.show()\n",
        "\n",
        "        return rewards\n",
        "    \n",
        "    \n",
        "\n",
        "\n"
      ]
    },
    {
      "cell_type": "markdown",
      "id": "a0d3d45e",
      "metadata": {},
      "source": [
        "# A Deep Neural Dense model with one hiddrn layer of size 256"
      ]
    },
    {
      "cell_type": "markdown",
      "id": "7012437f",
      "metadata": {
        "id": "7012437f"
      },
      "source": [
        "## Reward to Go = True\n",
        "## Advantage Norm = True"
      ]
    },
    {
      "cell_type": "code",
      "execution_count": null,
      "id": "f482aed1",
      "metadata": {
        "colab": {
          "base_uri": "https://localhost:8080/",
          "height": 1000
        },
        "id": "f482aed1",
        "outputId": "9d765f2d-27b7-4c6c-eec9-608e15f1eb11"
      },
      "outputs": [
        {
          "name": "stdout",
          "output_type": "stream",
          "text": [
            "Total Reward for Iteration 0 : 22.8125\n",
            "Total Reward for Iteration 1 : 30.84375\n",
            "Total Reward for Iteration 2 : 51.21875\n",
            "Total Reward for Iteration 3 : 58.75\n",
            "Total Reward for Iteration 4 : 66.625\n",
            "Total Reward for Iteration 5 : 70.0625\n",
            "Total Reward for Iteration 6 : 80.125\n",
            "Total Reward for Iteration 7 : 99.6875\n",
            "Total Reward for Iteration 8 : 120.34375\n",
            "Total Reward for Iteration 9 : 158.8125\n",
            "Total Reward for Iteration 10 : 178.8125\n",
            "Total Reward for Iteration 11 : 178.15625\n",
            "Total Reward for Iteration 12 : 160.1875\n",
            "Total Reward for Iteration 13 : 165.125\n",
            "Total Reward for Iteration 14 : 173.40625\n",
            "Total Reward for Iteration 15 : 180.5625\n",
            "Total Reward for Iteration 16 : 182.0625\n",
            "Total Reward for Iteration 17 : 193.375\n",
            "Total Reward for Iteration 18 : 198.5\n",
            "Total Reward for Iteration 19 : 199.125\n",
            "Total Reward for Iteration 20 : 199.96875\n",
            "Total Reward for Iteration 21 : 200.0\n",
            "Total Reward for Iteration 22 : 200.0\n",
            "Total Reward for Iteration 23 : 195.8125\n",
            "Total Reward for Iteration 24 : 200.0\n",
            "Total Reward for Iteration 25 : 200.0\n",
            "Total Reward for Iteration 26 : 200.0\n",
            "Total Reward for Iteration 27 : 200.0\n",
            "Total Reward for Iteration 28 : 200.0\n",
            "Total Reward for Iteration 29 : 200.0\n",
            "Total Reward for Iteration 30 : 196.1875\n",
            "Total Reward for Iteration 31 : 200.0\n",
            "Total Reward for Iteration 32 : 200.0\n",
            "Total Reward for Iteration 33 : 200.0\n",
            "Total Reward for Iteration 34 : 200.0\n",
            "Total Reward for Iteration 35 : 200.0\n",
            "Total Reward for Iteration 36 : 200.0\n",
            "Total Reward for Iteration 37 : 200.0\n",
            "Total Reward for Iteration 38 : 200.0\n",
            "Total Reward for Iteration 39 : 200.0\n",
            "Total Reward for Iteration 40 : 199.78125\n",
            "Total Reward for Iteration 41 : 200.0\n",
            "Total Reward for Iteration 42 : 200.0\n",
            "Total Reward for Iteration 43 : 200.0\n",
            "Total Reward for Iteration 44 : 200.0\n",
            "Total Reward for Iteration 45 : 200.0\n",
            "Total Reward for Iteration 46 : 200.0\n",
            "Total Reward for Iteration 47 : 200.0\n",
            "Total Reward for Iteration 48 : 200.0\n",
            "Total Reward for Iteration 49 : 200.0\n",
            "Total Reward for Iteration 50 : 200.0\n",
            "Total Reward for Iteration 51 : 200.0\n",
            "Total Reward for Iteration 52 : 200.0\n",
            "Total Reward for Iteration 53 : 200.0\n",
            "Total Reward for Iteration 54 : 200.0\n",
            "Total Reward for Iteration 55 : 200.0\n",
            "Total Reward for Iteration 56 : 200.0\n",
            "Total Reward for Iteration 57 : 200.0\n",
            "Total Reward for Iteration 58 : 200.0\n",
            "Total Reward for Iteration 59 : 200.0\n",
            "Total Reward for Iteration 60 : 200.0\n",
            "Total Reward for Iteration 61 : 200.0\n",
            "Total Reward for Iteration 62 : 200.0\n",
            "Total Reward for Iteration 63 : 200.0\n",
            "Total Reward for Iteration 64 : 200.0\n",
            "Total Reward for Iteration 65 : 200.0\n",
            "Total Reward for Iteration 66 : 200.0\n",
            "Total Reward for Iteration 67 : 200.0\n",
            "Total Reward for Iteration 68 : 200.0\n",
            "Total Reward for Iteration 69 : 200.0\n",
            "Total Reward for Iteration 70 : 200.0\n",
            "Total Reward for Iteration 71 : 200.0\n",
            "Total Reward for Iteration 72 : 200.0\n",
            "Total Reward for Iteration 73 : 200.0\n",
            "Total Reward for Iteration 74 : 200.0\n",
            "Total Reward for Iteration 75 : 200.0\n",
            "Total Reward for Iteration 76 : 200.0\n",
            "Total Reward for Iteration 77 : 200.0\n",
            "Total Reward for Iteration 78 : 200.0\n",
            "Total Reward for Iteration 79 : 200.0\n",
            "Total Reward for Iteration 80 : 200.0\n",
            "Total Reward for Iteration 81 : 200.0\n",
            "Total Reward for Iteration 82 : 200.0\n",
            "Total Reward for Iteration 83 : 200.0\n",
            "Total Reward for Iteration 84 : 200.0\n",
            "Total Reward for Iteration 85 : 200.0\n",
            "Total Reward for Iteration 86 : 200.0\n",
            "Total Reward for Iteration 87 : 200.0\n",
            "Total Reward for Iteration 88 : 200.0\n",
            "Total Reward for Iteration 89 : 200.0\n",
            "Total Reward for Iteration 90 : 200.0\n",
            "Total Reward for Iteration 91 : 200.0\n",
            "Total Reward for Iteration 92 : 200.0\n",
            "Total Reward for Iteration 93 : 200.0\n",
            "Total Reward for Iteration 94 : 196.09375\n",
            "Total Reward for Iteration 95 : 200.0\n",
            "Total Reward for Iteration 96 : 200.0\n",
            "Total Reward for Iteration 97 : 200.0\n",
            "Total Reward for Iteration 98 : 200.0\n",
            "Total Reward for Iteration 99 : 200.0\n"
          ]
        },
        {
          "data": {
            "image/png": "[encoded data removed]",
            "text/plain": [
              "<Figure size 432x288 with 1 Axes>"
            ]
          },
          "metadata": {
            "needs_background": "light"
          },
          "output_type": "display_data"
        }
      ],
      "source": [
        "env = gym.make(\"CartPole-v0\")\n",
        "agent = Agent(lr = 0.01, num_actions = env.action_space.n, batch_size = 32, input_layer = env.observation_space.shape[0], gamma = 0.9, iterations = 100,rw_t_g = True, Adv_N = True)\n",
        "x1 = agent.train(env)"
      ]
    },
    {
      "cell_type": "markdown",
      "id": "kVXsjtEb96Nf",
      "metadata": {
        "id": "kVXsjtEb96Nf"
      },
      "source": [
        "## Reward to Go = True\n",
        "## Advantage Norm = False\n",
        "\n"
      ]
    },
    {
      "cell_type": "code",
      "execution_count": null,
      "id": "84xWt167-F9w",
      "metadata": {
        "colab": {
          "base_uri": "https://localhost:8080/",
          "height": 1000
        },
        "id": "84xWt167-F9w",
        "outputId": "cdc33c40-c668-4f04-db6c-dd2429ec8ce7"
      },
      "outputs": [
        {
          "name": "stdout",
          "output_type": "stream",
          "text": [
            "Total Reward for Iteration 0 : 19.3125\n",
            "Total Reward for Iteration 1 : 27.96875\n",
            "Total Reward for Iteration 2 : 52.71875\n",
            "Total Reward for Iteration 3 : 54.5\n",
            "Total Reward for Iteration 4 : 64.15625\n",
            "Total Reward for Iteration 5 : 65.46875\n",
            "Total Reward for Iteration 6 : 97.0\n",
            "Total Reward for Iteration 7 : 120.15625\n",
            "Total Reward for Iteration 8 : 147.3125\n",
            "Total Reward for Iteration 9 : 131.96875\n",
            "Total Reward for Iteration 10 : 134.5\n",
            "Total Reward for Iteration 11 : 150.53125\n",
            "Total Reward for Iteration 12 : 144.75\n",
            "Total Reward for Iteration 13 : 147.28125\n",
            "Total Reward for Iteration 14 : 155.4375\n",
            "Total Reward for Iteration 15 : 155.75\n",
            "Total Reward for Iteration 16 : 160.875\n",
            "Total Reward for Iteration 17 : 161.96875\n",
            "Total Reward for Iteration 18 : 157.3125\n",
            "Total Reward for Iteration 19 : 169.6875\n",
            "Total Reward for Iteration 20 : 162.15625\n",
            "Total Reward for Iteration 21 : 168.0\n",
            "Total Reward for Iteration 22 : 188.25\n",
            "Total Reward for Iteration 23 : 199.75\n",
            "Total Reward for Iteration 24 : 198.25\n",
            "Total Reward for Iteration 25 : 196.75\n",
            "Total Reward for Iteration 26 : 197.65625\n",
            "Total Reward for Iteration 27 : 192.15625\n",
            "Total Reward for Iteration 28 : 192.96875\n",
            "Total Reward for Iteration 29 : 191.46875\n",
            "Total Reward for Iteration 30 : 192.78125\n",
            "Total Reward for Iteration 31 : 187.90625\n",
            "Total Reward for Iteration 32 : 197.625\n",
            "Total Reward for Iteration 33 : 194.90625\n",
            "Total Reward for Iteration 34 : 195.25\n",
            "Total Reward for Iteration 35 : 198.125\n",
            "Total Reward for Iteration 36 : 195.375\n",
            "Total Reward for Iteration 37 : 190.6875\n",
            "Total Reward for Iteration 38 : 188.59375\n",
            "Total Reward for Iteration 39 : 189.71875\n",
            "Total Reward for Iteration 40 : 187.25\n",
            "Total Reward for Iteration 41 : 175.375\n",
            "Total Reward for Iteration 42 : 194.125\n",
            "Total Reward for Iteration 43 : 186.75\n",
            "Total Reward for Iteration 44 : 185.5625\n",
            "Total Reward for Iteration 45 : 190.4375\n",
            "Total Reward for Iteration 46 : 182.65625\n",
            "Total Reward for Iteration 47 : 170.125\n",
            "Total Reward for Iteration 48 : 169.21875\n",
            "Total Reward for Iteration 49 : 155.96875\n",
            "Total Reward for Iteration 50 : 157.0\n",
            "Total Reward for Iteration 51 : 142.25\n",
            "Total Reward for Iteration 52 : 130.3125\n",
            "Total Reward for Iteration 53 : 114.6875\n",
            "Total Reward for Iteration 54 : 140.75\n",
            "Total Reward for Iteration 55 : 157.90625\n",
            "Total Reward for Iteration 56 : 164.90625\n",
            "Total Reward for Iteration 57 : 181.875\n",
            "Total Reward for Iteration 58 : 192.90625\n",
            "Total Reward for Iteration 59 : 196.90625\n",
            "Total Reward for Iteration 60 : 200.0\n",
            "Total Reward for Iteration 61 : 200.0\n",
            "Total Reward for Iteration 62 : 200.0\n",
            "Total Reward for Iteration 63 : 200.0\n",
            "Total Reward for Iteration 64 : 200.0\n",
            "Total Reward for Iteration 65 : 200.0\n",
            "Total Reward for Iteration 66 : 200.0\n",
            "Total Reward for Iteration 67 : 200.0\n",
            "Total Reward for Iteration 68 : 200.0\n",
            "Total Reward for Iteration 69 : 200.0\n",
            "Total Reward for Iteration 70 : 200.0\n",
            "Total Reward for Iteration 71 : 200.0\n",
            "Total Reward for Iteration 72 : 200.0\n",
            "Total Reward for Iteration 73 : 200.0\n",
            "Total Reward for Iteration 74 : 200.0\n",
            "Total Reward for Iteration 75 : 200.0\n",
            "Total Reward for Iteration 76 : 199.75\n",
            "Total Reward for Iteration 77 : 198.25\n",
            "Total Reward for Iteration 78 : 199.1875\n",
            "Total Reward for Iteration 79 : 197.96875\n",
            "Total Reward for Iteration 80 : 197.0625\n",
            "Total Reward for Iteration 81 : 195.0625\n",
            "Total Reward for Iteration 82 : 190.78125\n",
            "Total Reward for Iteration 83 : 190.71875\n",
            "Total Reward for Iteration 84 : 187.375\n",
            "Total Reward for Iteration 85 : 187.65625\n",
            "Total Reward for Iteration 86 : 179.28125\n",
            "Total Reward for Iteration 87 : 183.75\n",
            "Total Reward for Iteration 88 : 182.75\n",
            "Total Reward for Iteration 89 : 182.15625\n",
            "Total Reward for Iteration 90 : 178.25\n",
            "Total Reward for Iteration 91 : 186.0625\n",
            "Total Reward for Iteration 92 : 189.0625\n",
            "Total Reward for Iteration 93 : 189.1875\n",
            "Total Reward for Iteration 94 : 196.3125\n",
            "Total Reward for Iteration 95 : 197.0625\n",
            "Total Reward for Iteration 96 : 200.0\n",
            "Total Reward for Iteration 97 : 200.0\n",
            "Total Reward for Iteration 98 : 200.0\n",
            "Total Reward for Iteration 99 : 200.0\n"
          ]
        },
        {
          "data": {
            "image/png": "[encoded data removed]",
            "text/plain": [
              "<Figure size 432x288 with 1 Axes>"
            ]
          },
          "metadata": {
            "needs_background": "light"
          },
          "output_type": "display_data"
        }
      ],
      "source": [
        "env = gym.make(\"CartPole-v0\")\n",
        "agent = Agent(lr = 0.01, num_actions = env.action_space.n, batch_size = 32, input_layer = env.observation_space.shape[0], gamma = 0.9, iterations = 100,rw_t_g = True, Adv_N = False)\n",
        "x2 = agent.train(env)"
      ]
    },
    {
      "cell_type": "markdown",
      "id": "vi4GiREt99ii",
      "metadata": {
        "id": "vi4GiREt99ii"
      },
      "source": [
        "Reward to Go = False\n",
        "Advantage Norm = False"
      ]
    },
    {
      "cell_type": "code",
      "execution_count": null,
      "id": "9voiP8We-IGO",
      "metadata": {
        "colab": {
          "base_uri": "https://localhost:8080/",
          "height": 1000
        },
        "id": "9voiP8We-IGO",
        "outputId": "95ec5166-fdcd-4e90-8683-254f419216ed"
      },
      "outputs": [
        {
          "name": "stdout",
          "output_type": "stream",
          "text": [
            "Total Reward for Iteration 0 : 20.3125\n",
            "Total Reward for Iteration 1 : 25.1875\n",
            "Total Reward for Iteration 2 : 37.5\n",
            "Total Reward for Iteration 3 : 36.28125\n",
            "Total Reward for Iteration 4 : 42.5\n",
            "Total Reward for Iteration 5 : 52.75\n",
            "Total Reward for Iteration 6 : 48.875\n",
            "Total Reward for Iteration 7 : 56.15625\n",
            "Total Reward for Iteration 8 : 52.03125\n",
            "Total Reward for Iteration 9 : 49.53125\n",
            "Total Reward for Iteration 10 : 53.75\n",
            "Total Reward for Iteration 11 : 58.625\n",
            "Total Reward for Iteration 12 : 67.625\n",
            "Total Reward for Iteration 13 : 59.28125\n",
            "Total Reward for Iteration 14 : 72.40625\n",
            "Total Reward for Iteration 15 : 53.875\n",
            "Total Reward for Iteration 16 : 71.875\n",
            "Total Reward for Iteration 17 : 69.28125\n",
            "Total Reward for Iteration 18 : 63.9375\n",
            "Total Reward for Iteration 19 : 83.46875\n",
            "Total Reward for Iteration 20 : 74.90625\n",
            "Total Reward for Iteration 21 : 78.3125\n",
            "Total Reward for Iteration 22 : 65.71875\n",
            "Total Reward for Iteration 23 : 78.0625\n",
            "Total Reward for Iteration 24 : 68.15625\n",
            "Total Reward for Iteration 25 : 67.21875\n",
            "Total Reward for Iteration 26 : 64.625\n",
            "Total Reward for Iteration 27 : 59.25\n",
            "Total Reward for Iteration 28 : 67.25\n",
            "Total Reward for Iteration 29 : 66.8125\n",
            "Total Reward for Iteration 30 : 54.53125\n",
            "Total Reward for Iteration 31 : 62.8125\n",
            "Total Reward for Iteration 32 : 63.40625\n",
            "Total Reward for Iteration 33 : 56.78125\n",
            "Total Reward for Iteration 34 : 66.65625\n",
            "Total Reward for Iteration 35 : 67.875\n",
            "Total Reward for Iteration 36 : 65.96875\n",
            "Total Reward for Iteration 37 : 66.625\n",
            "Total Reward for Iteration 38 : 68.5625\n",
            "Total Reward for Iteration 39 : 73.09375\n",
            "Total Reward for Iteration 40 : 90.53125\n",
            "Total Reward for Iteration 41 : 87.65625\n",
            "Total Reward for Iteration 42 : 79.59375\n",
            "Total Reward for Iteration 43 : 85.09375\n",
            "Total Reward for Iteration 44 : 85.09375\n",
            "Total Reward for Iteration 45 : 88.03125\n",
            "Total Reward for Iteration 46 : 84.875\n",
            "Total Reward for Iteration 47 : 86.8125\n",
            "Total Reward for Iteration 48 : 90.21875\n",
            "Total Reward for Iteration 49 : 82.4375\n",
            "Total Reward for Iteration 50 : 77.75\n",
            "Total Reward for Iteration 51 : 87.78125\n",
            "Total Reward for Iteration 52 : 76.0625\n",
            "Total Reward for Iteration 53 : 66.1875\n",
            "Total Reward for Iteration 54 : 71.46875\n",
            "Total Reward for Iteration 55 : 68.09375\n",
            "Total Reward for Iteration 56 : 65.875\n",
            "Total Reward for Iteration 57 : 75.3125\n",
            "Total Reward for Iteration 58 : 71.1875\n",
            "Total Reward for Iteration 59 : 70.71875\n",
            "Total Reward for Iteration 60 : 75.75\n",
            "Total Reward for Iteration 61 : 71.65625\n",
            "Total Reward for Iteration 62 : 70.8125\n",
            "Total Reward for Iteration 63 : 74.0\n",
            "Total Reward for Iteration 64 : 76.6875\n",
            "Total Reward for Iteration 65 : 78.28125\n",
            "Total Reward for Iteration 66 : 72.90625\n",
            "Total Reward for Iteration 67 : 71.90625\n",
            "Total Reward for Iteration 68 : 76.0\n",
            "Total Reward for Iteration 69 : 78.5625\n",
            "Total Reward for Iteration 70 : 76.28125\n",
            "Total Reward for Iteration 71 : 82.96875\n",
            "Total Reward for Iteration 72 : 81.1875\n",
            "Total Reward for Iteration 73 : 84.8125\n",
            "Total Reward for Iteration 74 : 86.96875\n",
            "Total Reward for Iteration 75 : 80.25\n",
            "Total Reward for Iteration 76 : 84.40625\n",
            "Total Reward for Iteration 77 : 98.9375\n",
            "Total Reward for Iteration 78 : 84.59375\n",
            "Total Reward for Iteration 79 : 87.5\n",
            "Total Reward for Iteration 80 : 90.1875\n",
            "Total Reward for Iteration 81 : 88.40625\n",
            "Total Reward for Iteration 82 : 90.625\n",
            "Total Reward for Iteration 83 : 82.875\n",
            "Total Reward for Iteration 84 : 77.09375\n",
            "Total Reward for Iteration 85 : 80.375\n",
            "Total Reward for Iteration 86 : 75.84375\n",
            "Total Reward for Iteration 87 : 71.0625\n",
            "Total Reward for Iteration 88 : 71.5\n",
            "Total Reward for Iteration 89 : 68.9375\n",
            "Total Reward for Iteration 90 : 72.25\n",
            "Total Reward for Iteration 91 : 59.96875\n",
            "Total Reward for Iteration 92 : 59.75\n",
            "Total Reward for Iteration 93 : 54.34375\n",
            "Total Reward for Iteration 94 : 49.3125\n",
            "Total Reward for Iteration 95 : 44.0\n",
            "Total Reward for Iteration 96 : 36.0\n",
            "Total Reward for Iteration 97 : 25.34375\n",
            "Total Reward for Iteration 98 : 23.0625\n",
            "Total Reward for Iteration 99 : 16.84375\n"
          ]
        },
        {
          "data": {
            "image/png": "[encoded data removed]",
            "text/plain": [
              "<Figure size 432x288 with 1 Axes>"
            ]
          },
          "metadata": {
            "needs_background": "light"
          },
          "output_type": "display_data"
        }
      ],
      "source": [
        "env = gym.make(\"CartPole-v0\")\n",
        "agent = Agent(lr = 0.01, num_actions = env.action_space.n, batch_size = 32, input_layer = env.observation_space.shape[0], gamma = 0.9, iterations = 100,rw_t_g = False, Adv_N = False)\n",
        "x3 = agent.train(env)"
      ]
    },
    {
      "cell_type": "markdown",
      "id": "pS0DdYAr9-vE",
      "metadata": {
        "id": "pS0DdYAr9-vE"
      },
      "source": [
        "Reward to Go = False\n",
        "Advantage Norm = True"
      ]
    },
    {
      "cell_type": "code",
      "execution_count": null,
      "id": "zlUEaFxZ-LQA",
      "metadata": {
        "colab": {
          "base_uri": "https://localhost:8080/",
          "height": 1000
        },
        "id": "zlUEaFxZ-LQA",
        "outputId": "0e65818f-c33f-40e2-aa89-01ff08b3d4cd"
      },
      "outputs": [
        {
          "name": "stdout",
          "output_type": "stream",
          "text": [
            "Total Reward for Iteration 0 : 20.34375\n",
            "Total Reward for Iteration 1 : 19.75\n",
            "Total Reward for Iteration 2 : 20.21875\n",
            "Total Reward for Iteration 3 : 23.625\n",
            "Total Reward for Iteration 4 : 24.28125\n",
            "Total Reward for Iteration 5 : 28.75\n",
            "Total Reward for Iteration 6 : 31.46875\n",
            "Total Reward for Iteration 7 : 36.6875\n",
            "Total Reward for Iteration 8 : 38.84375\n",
            "Total Reward for Iteration 9 : 32.6875\n",
            "Total Reward for Iteration 10 : 32.5625\n",
            "Total Reward for Iteration 11 : 28.59375\n",
            "Total Reward for Iteration 12 : 32.75\n",
            "Total Reward for Iteration 13 : 40.9375\n",
            "Total Reward for Iteration 14 : 39.25\n",
            "Total Reward for Iteration 15 : 38.78125\n",
            "Total Reward for Iteration 16 : 36.96875\n",
            "Total Reward for Iteration 17 : 41.46875\n",
            "Total Reward for Iteration 18 : 41.8125\n",
            "Total Reward for Iteration 19 : 40.4375\n",
            "Total Reward for Iteration 20 : 33.8125\n",
            "Total Reward for Iteration 21 : 30.125\n",
            "Total Reward for Iteration 22 : 37.34375\n",
            "Total Reward for Iteration 23 : 24.625\n",
            "Total Reward for Iteration 24 : 28.4375\n",
            "Total Reward for Iteration 25 : 27.25\n",
            "Total Reward for Iteration 26 : 26.15625\n",
            "Total Reward for Iteration 27 : 23.5625\n",
            "Total Reward for Iteration 28 : 22.71875\n",
            "Total Reward for Iteration 29 : 24.59375\n",
            "Total Reward for Iteration 30 : 20.5625\n",
            "Total Reward for Iteration 31 : 23.4375\n",
            "Total Reward for Iteration 32 : 23.34375\n",
            "Total Reward for Iteration 33 : 18.875\n",
            "Total Reward for Iteration 34 : 27.46875\n",
            "Total Reward for Iteration 35 : 25.125\n",
            "Total Reward for Iteration 36 : 20.3125\n",
            "Total Reward for Iteration 37 : 25.28125\n",
            "Total Reward for Iteration 38 : 26.34375\n",
            "Total Reward for Iteration 39 : 26.59375\n",
            "Total Reward for Iteration 40 : 24.4375\n",
            "Total Reward for Iteration 41 : 30.90625\n",
            "Total Reward for Iteration 42 : 27.25\n",
            "Total Reward for Iteration 43 : 29.3125\n",
            "Total Reward for Iteration 44 : 36.84375\n",
            "Total Reward for Iteration 45 : 38.78125\n",
            "Total Reward for Iteration 46 : 31.09375\n",
            "Total Reward for Iteration 47 : 39.03125\n",
            "Total Reward for Iteration 48 : 41.40625\n",
            "Total Reward for Iteration 49 : 39.5625\n",
            "Total Reward for Iteration 50 : 42.625\n",
            "Total Reward for Iteration 51 : 44.65625\n",
            "Total Reward for Iteration 52 : 42.71875\n",
            "Total Reward for Iteration 53 : 43.65625\n",
            "Total Reward for Iteration 54 : 44.5625\n",
            "Total Reward for Iteration 55 : 51.21875\n",
            "Total Reward for Iteration 56 : 44.1875\n",
            "Total Reward for Iteration 57 : 48.40625\n",
            "Total Reward for Iteration 58 : 40.03125\n",
            "Total Reward for Iteration 59 : 47.09375\n",
            "Total Reward for Iteration 60 : 45.125\n",
            "Total Reward for Iteration 61 : 49.625\n",
            "Total Reward for Iteration 62 : 50.34375\n",
            "Total Reward for Iteration 63 : 45.625\n",
            "Total Reward for Iteration 64 : 58.6875\n",
            "Total Reward for Iteration 65 : 42.4375\n",
            "Total Reward for Iteration 66 : 47.34375\n",
            "Total Reward for Iteration 67 : 43.8125\n",
            "Total Reward for Iteration 68 : 40.59375\n",
            "Total Reward for Iteration 69 : 55.78125\n",
            "Total Reward for Iteration 70 : 44.75\n",
            "Total Reward for Iteration 71 : 41.625\n",
            "Total Reward for Iteration 72 : 41.09375\n",
            "Total Reward for Iteration 73 : 48.40625\n",
            "Total Reward for Iteration 74 : 40.875\n",
            "Total Reward for Iteration 75 : 39.0625\n",
            "Total Reward for Iteration 76 : 43.96875\n",
            "Total Reward for Iteration 77 : 44.625\n",
            "Total Reward for Iteration 78 : 44.0625\n",
            "Total Reward for Iteration 79 : 39.0625\n",
            "Total Reward for Iteration 80 : 41.96875\n",
            "Total Reward for Iteration 81 : 36.25\n",
            "Total Reward for Iteration 82 : 40.125\n",
            "Total Reward for Iteration 83 : 43.0\n",
            "Total Reward for Iteration 84 : 40.03125\n",
            "Total Reward for Iteration 85 : 37.25\n",
            "Total Reward for Iteration 86 : 37.59375\n",
            "Total Reward for Iteration 87 : 38.1875\n",
            "Total Reward for Iteration 88 : 47.15625\n",
            "Total Reward for Iteration 89 : 40.96875\n",
            "Total Reward for Iteration 90 : 37.5625\n",
            "Total Reward for Iteration 91 : 38.71875\n",
            "Total Reward for Iteration 92 : 44.46875\n",
            "Total Reward for Iteration 93 : 39.25\n",
            "Total Reward for Iteration 94 : 39.5625\n",
            "Total Reward for Iteration 95 : 39.1875\n",
            "Total Reward for Iteration 96 : 43.875\n",
            "Total Reward for Iteration 97 : 41.46875\n",
            "Total Reward for Iteration 98 : 36.59375\n",
            "Total Reward for Iteration 99 : 43.1875\n"
          ]
        },
        {
          "data": {
            "image/png": "[encoded data removed]",
            "text/plain": [
              "<Figure size 432x288 with 1 Axes>"
            ]
          },
          "metadata": {
            "needs_background": "light"
          },
          "output_type": "display_data"
        }
      ],
      "source": [
        "env = gym.make(\"CartPole-v0\")\n",
        "agent = Agent(lr = 0.01, num_actions = env.action_space.n, batch_size = 32, input_layer = env.observation_space.shape[0], gamma = 0.9, iterations = 100,rw_t_g = False, Adv_N = True)\n",
        "x4 = agent.train(env)"
      ]
    },
    {
      "cell_type": "markdown",
      "id": "Zblbz-pmLMSv",
      "metadata": {
        "id": "Zblbz-pmLMSv"
      },
      "source": [
        "## Comparison of Learning Curves with and without Reward-to-go and Advantage Normalization"
      ]
    },
    {
      "cell_type": "code",
      "execution_count": null,
      "id": "Rc7jxIw_ClZs",
      "metadata": {
        "colab": {
          "base_uri": "https://localhost:8080/",
          "height": 295
        },
        "id": "Rc7jxIw_ClZs",
        "outputId": "124ee574-6a54-4d2e-8d64-108ffdaf406a"
      },
      "outputs": [
        {
          "data": {
            "image/png": "[encoded data removed]",
            "text/plain": [
              "<Figure size 432x288 with 1 Axes>"
            ]
          },
          "metadata": {
            "needs_background": "light"
          },
          "output_type": "display_data"
        }
      ],
      "source": [
        "plt.xlabel(\"Episodes\")\n",
        "plt.ylabel(\"Reward\")\n",
        "plt.title(\"Learnign Curves Comparison\")\n",
        "plt.plot(x1,label = \"with Reward-to-go and Advantage Norm\")\n",
        "plt.plot(x2,label = \"with Reward-to-go and without Advantage Norm\")\n",
        "plt.plot(x3,label = \"withouth Reward-to-go and Advantage Norm\")\n",
        "plt.plot(x4,label = \"withouth Reward-to-go and with Advantage Norm\")\n",
        "plt.legend()\n",
        "plt.show()"
      ]
    },
    {
      "cell_type": "markdown",
      "id": "fa69e1d9",
      "metadata": {
        "id": "fa69e1d9"
      },
      "source": [
        "## By observing the learning curves, we can conclude that, when using reward to go \n",
        "## model converges and performs best with Advantage Norm slightly improving the rate of convergence\n",
        "\n",
        "## On the other hand, without reward to go model doesn't converge with the one having Advantage norm performing slightly better"
      ]
    },
    {
      "cell_type": "code",
      "execution_count": null,
      "id": "DYEwFC2JTMEO",
      "metadata": {
        "colab": {
          "base_uri": "https://localhost:8080/",
          "height": 295
        },
        "id": "DYEwFC2JTMEO",
        "outputId": "272de332-ad09-4ecb-a7d3-a8c8cfb01e46"
      },
      "outputs": [
        {
          "data": {
            "image/png": "[encoded data removed]",
            "text/plain": [
              "<Figure size 432x288 with 1 Axes>"
            ]
          },
          "metadata": {
            "needs_background": "light"
          },
          "output_type": "display_data"
        }
      ],
      "source": [
        "rew = []\n",
        "batch_size = [8,16,32,64]\n",
        "for b in batch_size:\n",
        "  env = gym.make(\"CartPole-v0\")\n",
        "  agent = Agent(lr = 0.01, num_actions = env.action_space.n, batch_size = b, input_layer = env.observation_space.shape[0], gamma = 0.9, iterations = 50,rw_t_g = True, Adv_N = True)\n",
        "  x = agent.train(env)\n",
        "  rew.append(x)\n",
        "\n",
        "plt.xlabel(\"Episodes\")\n",
        "plt.ylabel(\"Reward\")\n",
        "plt.title(\"Learnign Curves Comparison\")\n",
        "plt.plot(rew[0],label = \"with Batch Size 8\")\n",
        "plt.plot(rew[1],label = \"with Batch Size 16\")\n",
        "plt.plot(rew[2],label = \"with Batch Size 32\")\n",
        "plt.plot(rew[3],label = \"with Batch Size 64\")\n",
        "plt.legend()\n",
        "plt.show()\n",
        "\n"
      ]
    },
    {
      "cell_type": "markdown",
      "id": "dea37e3f",
      "metadata": {
        "id": "dea37e3f"
      },
      "source": [
        "## From above model,we can infer that using larger Batch Size makes our model converge significantly faster"
      ]
    },
    {
      "cell_type": "code",
      "execution_count": null,
      "id": "997fb5b5",
      "metadata": {
        "id": "997fb5b5"
      },
      "outputs": [],
      "source": []
    }
  ],
  "metadata": {
    "colab": {
      "collapsed_sections": [],
      "provenance": []
    },
    "gpuClass": "standard",
    "kernelspec": {
      "display_name": "Python 3 (ipykernel)",
      "language": "python",
      "name": "python3"
    },
    "language_info": {
      "codemirror_mode": {
        "name": "ipython",
        "version": 3
      },
      "file_extension": ".py",
      "mimetype": "text/x-python",
      "name": "python",
      "nbconvert_exporter": "python",
      "pygments_lexer": "ipython3",
      "version": "3.9.12"
    }
  },
  "nbformat": 4,
  "nbformat_minor": 5
}
